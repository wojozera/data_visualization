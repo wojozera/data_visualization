{
 "cells": [
  {
   "cell_type": "code",
   "execution_count": 43,
   "id": "6e0ced2f-24da-46d4-a3c3-c69607a9980f",
   "metadata": {},
   "outputs": [
    {
     "ename": "ModuleNotFoundError",
     "evalue": "No module named 'scipy'",
     "output_type": "error",
     "traceback": [
      "\u001b[1;31m---------------------------------------------------------------------------\u001b[0m",
      "\u001b[1;31mModuleNotFoundError\u001b[0m                       Traceback (most recent call last)",
      "Cell \u001b[1;32mIn[43], line 4\u001b[0m\n\u001b[0;32m      2\u001b[0m \u001b[38;5;28;01mimport\u001b[39;00m \u001b[38;5;21;01mnumpy\u001b[39;00m \u001b[38;5;28;01mas\u001b[39;00m \u001b[38;5;21;01mnp\u001b[39;00m\n\u001b[0;32m      3\u001b[0m \u001b[38;5;28;01mimport\u001b[39;00m \u001b[38;5;21;01mmatplotlib\u001b[39;00m\u001b[38;5;21;01m.\u001b[39;00m\u001b[38;5;21;01mpyplot\u001b[39;00m  \u001b[38;5;28;01mas\u001b[39;00m \u001b[38;5;21;01mplt\u001b[39;00m\n\u001b[1;32m----> 4\u001b[0m \u001b[38;5;28;01mfrom\u001b[39;00m \u001b[38;5;21;01mscipy\u001b[39;00m\u001b[38;5;21;01m.\u001b[39;00m\u001b[38;5;21;01mstats\u001b[39;00m \u001b[38;5;28;01mimport\u001b[39;00m linregress\n\u001b[0;32m      6\u001b[0m kochin \u001b[38;5;241m=\u001b[39m pd\u001b[38;5;241m.\u001b[39mread_csv(\u001b[38;5;124m'\u001b[39m\u001b[38;5;124mkochin.csv\u001b[39m\u001b[38;5;124m'\u001b[39m, sep\u001b[38;5;241m=\u001b[39m\u001b[38;5;124m'\u001b[39m\u001b[38;5;124m;\u001b[39m\u001b[38;5;124m'\u001b[39m)\n\u001b[0;32m      8\u001b[0m \u001b[38;5;28mprint\u001b[39m(kochin)\n",
      "\u001b[1;31mModuleNotFoundError\u001b[0m: No module named 'scipy'"
     ]
    }
   ],
   "source": [
    "import pandas as pd\n",
    "import numpy as np\n",
    "import matplotlib.pyplot  as plt\n",
    "\n",
    "\n",
    "kochin = pd.read_csv('kochin.csv', sep=';')\n",
    "\n",
    "print(kochin)\n",
    "\n"
   ]
  },
  {
   "cell_type": "code",
   "execution_count": 41,
   "id": "baa5d10f-f284-4948-b9ae-38efe38042d5",
   "metadata": {},
   "outputs": [
    {
     "ename": "ModuleNotFoundError",
     "evalue": "No module named 'scipy'",
     "output_type": "error",
     "traceback": [
      "\u001b[1;31m---------------------------------------------------------------------------\u001b[0m",
      "\u001b[1;31mModuleNotFoundError\u001b[0m                       Traceback (most recent call last)",
      "Cell \u001b[1;32mIn[41], line 2\u001b[0m\n\u001b[0;32m      1\u001b[0m \u001b[38;5;28;01mimport\u001b[39;00m \u001b[38;5;21;01mmatplotlib\u001b[39;00m\u001b[38;5;21;01m.\u001b[39;00m\u001b[38;5;21;01mpyplot\u001b[39;00m \u001b[38;5;28;01mas\u001b[39;00m \u001b[38;5;21;01mplt\u001b[39;00m\n\u001b[1;32m----> 2\u001b[0m \u001b[38;5;28;01mfrom\u001b[39;00m \u001b[38;5;21;01mscipy\u001b[39;00m\u001b[38;5;21;01m.\u001b[39;00m\u001b[38;5;21;01mstats\u001b[39;00m \u001b[38;5;28;01mimport\u001b[39;00m linregress\n\u001b[0;32m      3\u001b[0m \u001b[38;5;66;03m#Extract the columns directly from the DataFrame\u001b[39;00m\n\u001b[0;32m      4\u001b[0m column_year \u001b[38;5;241m=\u001b[39m kochin[\u001b[38;5;124m'\u001b[39m\u001b[38;5;124mYEAR\u001b[39m\u001b[38;5;124m'\u001b[39m]\u001b[38;5;241m.\u001b[39mastype(\u001b[38;5;28mint\u001b[39m)\n",
      "\u001b[1;31mModuleNotFoundError\u001b[0m: No module named 'scipy'"
     ]
    }
   ],
   "source": [
    "import matplotlib.pyplot as plt\n",
    "from scipy.stats import linregress\n",
    "#Extract the columns directly from the DataFrame\n",
    "column_year = kochin['YEAR'].astype(int)\n",
    "column_unemp = kochin['UNEMP'].str.replace(',', '.').astype(float)\n",
    "column_wages = kochin['WAGES'].str.replace(',', '.').astype(float)\n",
    "column_demand = kochin['DEMAND'].str.replace(',', '.').astype(float)\n",
    "column_benefits = kochin['BENEFITS,'].str.replace(',', '.').astype(float)\n",
    "\n",
    "plt.scatter(column_year , column_unemp)\n",
    "#Setting the x-axis to show all year values\n",
    "plt.xticks(np.arange(min(column_year), max(column_year) + 1, 1), rotation=45)\n",
    "plt.xlabel('Year')\n",
    "plt.ylabel('UNEMP')\n",
    "plt.title('Yearly Trends: Unemployment')\n",
    "plt.show()\n",
    "\n",
    "plt.plot(column_year , column_wages)\n",
    "plt.xticks(np.arange(min(column_year), max(column_year) + 1, 1), rotation=45)\n",
    "plt.xlabel('Year')\n",
    "plt.ylabel('WAGES')\n",
    "plt.title('Yearly Trends: Wages')\n",
    "plt.show()\n",
    "\n",
    "plt.plot(column_year , column_demand)\n",
    "plt.xticks(np.arange(min(column_year), max(column_year) + 1, 1), rotation=45)\n",
    "plt.xlabel('Year')\n",
    "plt.ylabel('Values')\n",
    "plt.title('Yearly Trends: Demand')\n",
    "plt.show()\n",
    "\n",
    "\n",
    "\n",
    "plt.plot(column_year, column_unemp, label='unemployment', color='blue')\n",
    "plt.plot(column_year, column_benefits, label='benefits', color='red')\n",
    "plt.title('Q5')\n",
    "plt.show()\n",
    "\n",
    "slope, intercept, r_value, p_value, std_err = linregress(column_unemp, column_benefits)\n",
    "\n",
    "\n",
    "regression_line = slope * column_unemp + intercept\n",
    "# Plot the original data points\n",
    "plt.plot(column_unemp, column_benefits, 'o', label='Data points', color='blue')\n",
    "plt.plot(column_unemp, regression_line, label='Regression Line', color='red')\n",
    "\n",
    "plt.xlabel('Unemployment')\n",
    "plt.ylabel('Benefits')\n",
    "plt.title('Linear Regression: Unemployment vs Benefits')\n",
    "plt.legend()\n",
    "\n",
    "plt.show()\n",
    "\n",
    "# Print the regression details if needed\n",
    "print(f\"Slope: {slope}\")\n",
    "print(f\"Intercept: {intercept}\")\n",
    "print(f\"R-squared: {r_value**2}\")\n"
   ]
  },
  {
   "cell_type": "code",
   "execution_count": 42,
   "id": "3861ad63-ad3a-4de3-a154-d9f48284df95",
   "metadata": {},
   "outputs": [
    {
     "ename": "ModuleNotFoundError",
     "evalue": "No module named 'scipy'",
     "output_type": "error",
     "traceback": [
      "\u001b[1;31m---------------------------------------------------------------------------\u001b[0m",
      "\u001b[1;31mModuleNotFoundError\u001b[0m                       Traceback (most recent call last)",
      "Cell \u001b[1;32mIn[42], line 2\u001b[0m\n\u001b[0;32m      1\u001b[0m \u001b[38;5;28;01mimport\u001b[39;00m \u001b[38;5;21;01mmatplotlib\u001b[39;00m\u001b[38;5;21;01m.\u001b[39;00m\u001b[38;5;21;01mpyplot\u001b[39;00m \u001b[38;5;28;01mas\u001b[39;00m \u001b[38;5;21;01mplt\u001b[39;00m\n\u001b[1;32m----> 2\u001b[0m \u001b[38;5;28;01mfrom\u001b[39;00m \u001b[38;5;21;01mscipy\u001b[39;00m\u001b[38;5;21;01m.\u001b[39;00m\u001b[38;5;21;01mstats\u001b[39;00m \u001b[38;5;28;01mimport\u001b[39;00m linregress\n\u001b[0;32m      3\u001b[0m \u001b[38;5;66;03m#Extract the columns directly from the DataFrame\u001b[39;00m\n\u001b[0;32m      4\u001b[0m column_year \u001b[38;5;241m=\u001b[39m kochin[\u001b[38;5;124m'\u001b[39m\u001b[38;5;124mYEAR\u001b[39m\u001b[38;5;124m'\u001b[39m]\u001b[38;5;241m.\u001b[39mastype(\u001b[38;5;28mint\u001b[39m)\n",
      "\u001b[1;31mModuleNotFoundError\u001b[0m: No module named 'scipy'"
     ]
    }
   ],
   "source": [
    "import matplotlib.pyplot as plt\n",
    "from scipy.stats import linregress\n",
    "#Extract the columns directly from the DataFrame\n",
    "column_year = kochin['YEAR'].astype(int)\n",
    "column_unemp = kochin['UNEMP'].str.replace(',', '.').astype(float)\n",
    "column_wages = kochin['WAGES'].str.replace(',', '.').astype(float)\n",
    "column_demand = kochin['DEMAND'].str.replace(',', '.').astype(float)\n",
    "column_benefits = kochin['BENEFITS,'].str.replace(',', '.').astype(float)\n",
    "\n",
    "plt.scatter(column_year , column_unemp)\n",
    "#Setting the x-axis to show all year values\n",
    "plt.xticks(np.arange(min(column_year), max(column_year) + 1, 1), rotation=45)\n",
    "plt.xlabel('Year')\n",
    "plt.ylabel('UNEMP')\n",
    "plt.title('Yearly Trends: Unemployment')\n",
    "plt.show()\n",
    "\n",
    "plt.plot(column_year , column_wages)\n",
    "plt.xticks(np.arange(min(column_year), max(column_year) + 1, 1), rotation=45)\n",
    "plt.xlabel('Year')\n",
    "plt.ylabel('WAGES')\n",
    "plt.title('Yearly Trends: Wages')\n",
    "plt.show()\n",
    "\n",
    "plt.plot(column_year , column_demand)\n",
    "plt.xticks(np.arange(min(column_year), max(column_year) + 1, 1), rotation=45)\n",
    "plt.xlabel('Year')\n",
    "plt.ylabel('Values')\n",
    "plt.title('Yearly Trends: Demand')\n",
    "plt.show()\n",
    "\n",
    "\n",
    "\n",
    "plt.plot(column_year, column_unemp, label='unemployment', color='blue')\n",
    "plt.plot(column_year, column_benefits, label='benefits', color='red')\n",
    "plt.title('Q5')\n",
    "plt.show()\n",
    "\n",
    "slope, intercept, r_value, p_value, std_err = linregress(column_unemp, column_benefits)\n",
    "\n",
    "\n",
    "regression_line = slope * column_unemp + intercept\n",
    "# Plot the original data points\n",
    "plt.plot(column_unemp, column_benefits, 'o', label='Data points', color='blue')\n",
    "plt.plot(column_unemp, regression_line, label='Regression Line', color='red')\n",
    "\n",
    "plt.xlabel('Unemployment')\n",
    "plt.ylabel('Benefits')\n",
    "plt.title('Linear Regression: Unemployment vs Benefits')\n",
    "plt.legend()\n",
    "\n",
    "plt.show()\n",
    "\n",
    "# Print the regression details if needed\n",
    "print(f\"Slope: {slope}\")\n",
    "print(f\"Intercept: {intercept}\")\n",
    "print(f\"R-squared: {r_value**2}\")\n"
   ]
  }
 ],
 "metadata": {
  "kernelspec": {
   "display_name": "Python 3 (ipykernel)",
   "language": "python",
   "name": "python3"
  },
  "language_info": {
   "codemirror_mode": {
    "name": "ipython",
    "version": 3
   },
   "file_extension": ".py",
   "mimetype": "text/x-python",
   "name": "python",
   "nbconvert_exporter": "python",
   "pygments_lexer": "ipython3",
   "version": "3.9.13"
  }
 },
 "nbformat": 4,
 "nbformat_minor": 5
}
