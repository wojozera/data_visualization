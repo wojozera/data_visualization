{
 "cells": [
  {
   "cell_type": "code",
   "execution_count": 28,
   "id": "initial_id",
   "metadata": {
    "ExecuteTime": {
     "end_time": "2024-12-16T13:08:34.704041400Z",
     "start_time": "2024-12-16T13:08:34.686037700Z"
    }
   },
   "outputs": [],
   "source": [
    "import altair as alt\n",
    "import pandas as pd\n",
    "import random"
   ]
  },
  {
   "cell_type": "code",
   "execution_count": 10,
   "id": "af5995cd0ea95bad",
   "metadata": {
    "ExecuteTime": {
     "end_time": "2024-12-16T12:06:23.486847300Z",
     "start_time": "2024-12-16T12:06:22.485304800Z"
    },
    "collapsed": false
   },
   "outputs": [
    {
     "data": {
      "text/html": [
       "\n",
       "<style>\n",
       "  #altair-viz-7fae07eeb8c84a6aa7133fa8936db5eb.vega-embed {\n",
       "    width: 100%;\n",
       "    display: flex;\n",
       "  }\n",
       "\n",
       "  #altair-viz-7fae07eeb8c84a6aa7133fa8936db5eb.vega-embed details,\n",
       "  #altair-viz-7fae07eeb8c84a6aa7133fa8936db5eb.vega-embed details summary {\n",
       "    position: relative;\n",
       "  }\n",
       "</style>\n",
       "<div id=\"altair-viz-7fae07eeb8c84a6aa7133fa8936db5eb\"></div>\n",
       "<script type=\"text/javascript\">\n",
       "  var VEGA_DEBUG = (typeof VEGA_DEBUG == \"undefined\") ? {} : VEGA_DEBUG;\n",
       "  (function(spec, embedOpt){\n",
       "    let outputDiv = document.currentScript.previousElementSibling;\n",
       "    if (outputDiv.id !== \"altair-viz-7fae07eeb8c84a6aa7133fa8936db5eb\") {\n",
       "      outputDiv = document.getElementById(\"altair-viz-7fae07eeb8c84a6aa7133fa8936db5eb\");\n",
       "    }\n",
       "\n",
       "    const paths = {\n",
       "      \"vega\": \"https://cdn.jsdelivr.net/npm/vega@5?noext\",\n",
       "      \"vega-lib\": \"https://cdn.jsdelivr.net/npm/vega-lib?noext\",\n",
       "      \"vega-lite\": \"https://cdn.jsdelivr.net/npm/vega-lite@5.20.1?noext\",\n",
       "      \"vega-embed\": \"https://cdn.jsdelivr.net/npm/vega-embed@6?noext\",\n",
       "    };\n",
       "\n",
       "    function maybeLoadScript(lib, version) {\n",
       "      var key = `${lib.replace(\"-\", \"\")}_version`;\n",
       "      return (VEGA_DEBUG[key] == version) ?\n",
       "        Promise.resolve(paths[lib]) :\n",
       "        new Promise(function(resolve, reject) {\n",
       "          var s = document.createElement('script');\n",
       "          document.getElementsByTagName(\"head\")[0].appendChild(s);\n",
       "          s.async = true;\n",
       "          s.onload = () => {\n",
       "            VEGA_DEBUG[key] = version;\n",
       "            return resolve(paths[lib]);\n",
       "          };\n",
       "          s.onerror = () => reject(`Error loading script: ${paths[lib]}`);\n",
       "          s.src = paths[lib];\n",
       "        });\n",
       "    }\n",
       "\n",
       "    function showError(err) {\n",
       "      outputDiv.innerHTML = `<div class=\"error\" style=\"color:red;\">${err}</div>`;\n",
       "      throw err;\n",
       "    }\n",
       "\n",
       "    function displayChart(vegaEmbed) {\n",
       "      vegaEmbed(outputDiv, spec, embedOpt)\n",
       "        .catch(err => showError(`Javascript Error: ${err.message}<br>This usually means there's a typo in your chart specification. See the javascript console for the full traceback.`));\n",
       "    }\n",
       "\n",
       "    if(typeof define === \"function\" && define.amd) {\n",
       "      requirejs.config({paths});\n",
       "      let deps = [\"vega-embed\"];\n",
       "      require(deps, displayChart, err => showError(`Error loading script: ${err.message}`));\n",
       "    } else {\n",
       "      maybeLoadScript(\"vega\", \"5\")\n",
       "        .then(() => maybeLoadScript(\"vega-lite\", \"5.20.1\"))\n",
       "        .then(() => maybeLoadScript(\"vega-embed\", \"6\"))\n",
       "        .catch(showError)\n",
       "        .then(() => displayChart(vegaEmbed));\n",
       "    }\n",
       "  })({\"config\": {\"view\": {\"continuousWidth\": 300, \"continuousHeight\": 300}}, \"data\": {\"name\": \"data-0124bf314ac7e4c67cb9715e09bbf8ee\"}, \"mark\": {\"type\": \"bar\"}, \"encoding\": {\"x\": {\"axis\": null, \"field\": \"a\", \"type\": \"nominal\"}, \"y\": {\"axis\": null, \"field\": \"b\", \"type\": \"quantitative\"}}, \"$schema\": \"https://vega.github.io/schema/vega-lite/v5.20.1.json\", \"datasets\": {\"data-0124bf314ac7e4c67cb9715e09bbf8ee\": [{\"a\": \"A\", \"b\": 28}, {\"a\": \"B\", \"b\": 55}, {\"a\": \"C\", \"b\": 43}, {\"a\": \"D\", \"b\": 91}, {\"a\": \"E\", \"b\": 81}, {\"a\": \"F\", \"b\": 65}]}}, {\"mode\": \"vega-lite\"});\n",
       "</script>"
      ],
      "text/plain": [
       "alt.Chart(...)"
      ]
     },
     "execution_count": 10,
     "metadata": {},
     "output_type": "execute_result"
    }
   ],
   "source": [
    "# bar chart\n",
    "source = pd.DataFrame({\n",
    "    'a': ['A', 'B', 'C', 'D', 'E', 'F'],\n",
    "    'b': [28, 55, 43, 91, 81, 65]\n",
    "})\n",
    "\n",
    "chart = alt.Chart(source).mark_bar().encode(\n",
    "    x=alt.X('a:N', axis=None),  \n",
    "    y=alt.Y('b:Q', axis=None)  \n",
    ") \n",
    "\n",
    "chart"
   ]
  },
  {
   "cell_type": "code",
   "execution_count": 12,
   "id": "663d7d27be8d109a",
   "metadata": {
    "collapsed": false,
    "ExecuteTime": {
     "end_time": "2024-12-16T12:43:48.696689700Z",
     "start_time": "2024-12-16T12:43:48.624432900Z"
    }
   },
   "outputs": [
    {
     "data": {
      "text/html": "\n<style>\n  #altair-viz-7766f299ddda48a9abcb34246988fe72.vega-embed {\n    width: 100%;\n    display: flex;\n  }\n\n  #altair-viz-7766f299ddda48a9abcb34246988fe72.vega-embed details,\n  #altair-viz-7766f299ddda48a9abcb34246988fe72.vega-embed details summary {\n    position: relative;\n  }\n</style>\n<div id=\"altair-viz-7766f299ddda48a9abcb34246988fe72\"></div>\n<script type=\"text/javascript\">\n  var VEGA_DEBUG = (typeof VEGA_DEBUG == \"undefined\") ? {} : VEGA_DEBUG;\n  (function(spec, embedOpt){\n    let outputDiv = document.currentScript.previousElementSibling;\n    if (outputDiv.id !== \"altair-viz-7766f299ddda48a9abcb34246988fe72\") {\n      outputDiv = document.getElementById(\"altair-viz-7766f299ddda48a9abcb34246988fe72\");\n    }\n\n    const paths = {\n      \"vega\": \"https://cdn.jsdelivr.net/npm/vega@5?noext\",\n      \"vega-lib\": \"https://cdn.jsdelivr.net/npm/vega-lib?noext\",\n      \"vega-lite\": \"https://cdn.jsdelivr.net/npm/vega-lite@5.20.1?noext\",\n      \"vega-embed\": \"https://cdn.jsdelivr.net/npm/vega-embed@6?noext\",\n    };\n\n    function maybeLoadScript(lib, version) {\n      var key = `${lib.replace(\"-\", \"\")}_version`;\n      return (VEGA_DEBUG[key] == version) ?\n        Promise.resolve(paths[lib]) :\n        new Promise(function(resolve, reject) {\n          var s = document.createElement('script');\n          document.getElementsByTagName(\"head\")[0].appendChild(s);\n          s.async = true;\n          s.onload = () => {\n            VEGA_DEBUG[key] = version;\n            return resolve(paths[lib]);\n          };\n          s.onerror = () => reject(`Error loading script: ${paths[lib]}`);\n          s.src = paths[lib];\n        });\n    }\n\n    function showError(err) {\n      outputDiv.innerHTML = `<div class=\"error\" style=\"color:red;\">${err}</div>`;\n      throw err;\n    }\n\n    function displayChart(vegaEmbed) {\n      vegaEmbed(outputDiv, spec, embedOpt)\n        .catch(err => showError(`Javascript Error: ${err.message}<br>This usually means there's a typo in your chart specification. See the javascript console for the full traceback.`));\n    }\n\n    if(typeof define === \"function\" && define.amd) {\n      requirejs.config({paths});\n      let deps = [\"vega-embed\"];\n      require(deps, displayChart, err => showError(`Error loading script: ${err.message}`));\n    } else {\n      maybeLoadScript(\"vega\", \"5\")\n        .then(() => maybeLoadScript(\"vega-lite\", \"5.20.1\"))\n        .then(() => maybeLoadScript(\"vega-embed\", \"6\"))\n        .catch(showError)\n        .then(() => displayChart(vegaEmbed));\n    }\n  })({\"config\": {\"view\": {\"continuousWidth\": 300, \"continuousHeight\": 300}}, \"data\": {\"name\": \"data-7daf4eca8a3ff942692809fe21d28bdb\"}, \"mark\": {\"type\": \"circle\", \"size\": 200}, \"encoding\": {\"color\": {\"field\": \"intensity\", \"legend\": null, \"type\": \"quantitative\"}, \"x\": {\"axis\": null, \"field\": \"col\", \"title\": null, \"type\": \"ordinal\"}, \"y\": {\"axis\": null, \"field\": \"row\", \"title\": null, \"type\": \"ordinal\"}}, \"$schema\": \"https://vega.github.io/schema/vega-lite/v5.20.1.json\", \"datasets\": {\"data-7daf4eca8a3ff942692809fe21d28bdb\": [{\"unit_id\": 0, \"intensity\": 576, \"row\": 0, \"col\": 0}, {\"unit_id\": 1, \"intensity\": 576, \"row\": 0, \"col\": 1}, {\"unit_id\": 2, \"intensity\": 576, \"row\": 0, \"col\": 2}, {\"unit_id\": 3, \"intensity\": 576, \"row\": 0, \"col\": 3}, {\"unit_id\": 4, \"intensity\": 576, \"row\": 0, \"col\": 4}, {\"unit_id\": 5, \"intensity\": 576, \"row\": 0, \"col\": 5}, {\"unit_id\": 6, \"intensity\": 576, \"row\": 0, \"col\": 6}, {\"unit_id\": 7, \"intensity\": 576, \"row\": 1, \"col\": 0}, {\"unit_id\": 8, \"intensity\": 576, \"row\": 1, \"col\": 1}, {\"unit_id\": 9, \"intensity\": 576, \"row\": 1, \"col\": 2}, {\"unit_id\": 10, \"intensity\": 576, \"row\": 1, \"col\": 3}, {\"unit_id\": 11, \"intensity\": 576, \"row\": 1, \"col\": 4}, {\"unit_id\": 12, \"intensity\": 576, \"row\": 1, \"col\": 5}, {\"unit_id\": 13, \"intensity\": 576, \"row\": 1, \"col\": 6}, {\"unit_id\": 14, \"intensity\": 576, \"row\": 2, \"col\": 0}, {\"unit_id\": 15, \"intensity\": 576, \"row\": 2, \"col\": 1}, {\"unit_id\": 16, \"intensity\": 576, \"row\": 2, \"col\": 2}, {\"unit_id\": 17, \"intensity\": 576, \"row\": 2, \"col\": 3}, {\"unit_id\": 18, \"intensity\": 576, \"row\": 2, \"col\": 4}, {\"unit_id\": 19, \"intensity\": 576, \"row\": 2, \"col\": 5}, {\"unit_id\": 20, \"intensity\": 576, \"row\": 2, \"col\": 6}, {\"unit_id\": 21, \"intensity\": 576, \"row\": 3, \"col\": 0}, {\"unit_id\": 22, \"intensity\": 576, \"row\": 3, \"col\": 1}, {\"unit_id\": 23, \"intensity\": 576, \"row\": 3, \"col\": 2}, {\"unit_id\": 24, \"intensity\": 576, \"row\": 3, \"col\": 3}, {\"unit_id\": 25, \"intensity\": 576, \"row\": 3, \"col\": 4}, {\"unit_id\": 26, \"intensity\": 576, \"row\": 3, \"col\": 5}, {\"unit_id\": 27, \"intensity\": 576, \"row\": 3, \"col\": 6}, {\"unit_id\": 28, \"intensity\": 576, \"row\": 4, \"col\": 0}, {\"unit_id\": 29, \"intensity\": 576, \"row\": 4, \"col\": 1}, {\"unit_id\": 30, \"intensity\": 576, \"row\": 4, \"col\": 2}, {\"unit_id\": 31, \"intensity\": 576, \"row\": 4, \"col\": 3}, {\"unit_id\": 32, \"intensity\": 576, \"row\": 4, \"col\": 4}, {\"unit_id\": 33, \"intensity\": 576, \"row\": 4, \"col\": 5}, {\"unit_id\": 34, \"intensity\": 576, \"row\": 4, \"col\": 6}, {\"unit_id\": 35, \"intensity\": 576, \"row\": 5, \"col\": 0}, {\"unit_id\": 36, \"intensity\": 576, \"row\": 5, \"col\": 1}, {\"unit_id\": 37, \"intensity\": 576, \"row\": 5, \"col\": 2}, {\"unit_id\": 38, \"intensity\": 576, \"row\": 5, \"col\": 3}, {\"unit_id\": 39, \"intensity\": 576, \"row\": 5, \"col\": 4}, {\"unit_id\": 40, \"intensity\": 576, \"row\": 5, \"col\": 5}, {\"unit_id\": 41, \"intensity\": 576, \"row\": 5, \"col\": 6}, {\"unit_id\": 42, \"intensity\": 576, \"row\": 6, \"col\": 0}, {\"unit_id\": 43, \"intensity\": 576, \"row\": 6, \"col\": 1}, {\"unit_id\": 44, \"intensity\": 576, \"row\": 6, \"col\": 2}, {\"unit_id\": 45, \"intensity\": 576, \"row\": 6, \"col\": 3}, {\"unit_id\": 46, \"intensity\": 576, \"row\": 6, \"col\": 4}, {\"unit_id\": 47, \"intensity\": 576, \"row\": 6, \"col\": 5}, {\"unit_id\": 48, \"intensity\": 576, \"row\": 6, \"col\": 6}]}}, {\"mode\": \"vega-lite\"});\n</script>",
      "text/plain": "alt.Chart(...)"
     },
     "execution_count": 12,
     "metadata": {},
     "output_type": "execute_result"
    }
   ],
   "source": [
    "\n",
    "total_units = 49\n",
    "source = pd.DataFrame({\n",
    "    'unit_id': range(total_units)\n",
    "})\n",
    "\n",
    "\n",
    "source['intensity'] = random.randint(1,1000)\n",
    "\n",
    "source['row'] = source['unit_id'] // 7  # rows\n",
    "source['col'] = source['unit_id'] % 7   # columns\n",
    "\n",
    "\n",
    "chart = alt.Chart(source).mark_circle(size=200).encode(\n",
    "    x=alt.X('col:O', title=None, axis=None),  \n",
    "    y=alt.Y('row:O', title=None, axis=None),  \n",
    "    color=alt.Color('intensity:Q',legend=None)  \n",
    ")\n",
    "\n",
    "chart\n"
   ]
  },
  {
   "cell_type": "code",
   "execution_count": 17,
   "outputs": [
    {
     "data": {
      "text/html": "\n<style>\n  #altair-viz-8e20e393b7864f0c805b81c64ebda569.vega-embed {\n    width: 100%;\n    display: flex;\n  }\n\n  #altair-viz-8e20e393b7864f0c805b81c64ebda569.vega-embed details,\n  #altair-viz-8e20e393b7864f0c805b81c64ebda569.vega-embed details summary {\n    position: relative;\n  }\n</style>\n<div id=\"altair-viz-8e20e393b7864f0c805b81c64ebda569\"></div>\n<script type=\"text/javascript\">\n  var VEGA_DEBUG = (typeof VEGA_DEBUG == \"undefined\") ? {} : VEGA_DEBUG;\n  (function(spec, embedOpt){\n    let outputDiv = document.currentScript.previousElementSibling;\n    if (outputDiv.id !== \"altair-viz-8e20e393b7864f0c805b81c64ebda569\") {\n      outputDiv = document.getElementById(\"altair-viz-8e20e393b7864f0c805b81c64ebda569\");\n    }\n\n    const paths = {\n      \"vega\": \"https://cdn.jsdelivr.net/npm/vega@5?noext\",\n      \"vega-lib\": \"https://cdn.jsdelivr.net/npm/vega-lib?noext\",\n      \"vega-lite\": \"https://cdn.jsdelivr.net/npm/vega-lite@5.20.1?noext\",\n      \"vega-embed\": \"https://cdn.jsdelivr.net/npm/vega-embed@6?noext\",\n    };\n\n    function maybeLoadScript(lib, version) {\n      var key = `${lib.replace(\"-\", \"\")}_version`;\n      return (VEGA_DEBUG[key] == version) ?\n        Promise.resolve(paths[lib]) :\n        new Promise(function(resolve, reject) {\n          var s = document.createElement('script');\n          document.getElementsByTagName(\"head\")[0].appendChild(s);\n          s.async = true;\n          s.onload = () => {\n            VEGA_DEBUG[key] = version;\n            return resolve(paths[lib]);\n          };\n          s.onerror = () => reject(`Error loading script: ${paths[lib]}`);\n          s.src = paths[lib];\n        });\n    }\n\n    function showError(err) {\n      outputDiv.innerHTML = `<div class=\"error\" style=\"color:red;\">${err}</div>`;\n      throw err;\n    }\n\n    function displayChart(vegaEmbed) {\n      vegaEmbed(outputDiv, spec, embedOpt)\n        .catch(err => showError(`Javascript Error: ${err.message}<br>This usually means there's a typo in your chart specification. See the javascript console for the full traceback.`));\n    }\n\n    if(typeof define === \"function\" && define.amd) {\n      requirejs.config({paths});\n      let deps = [\"vega-embed\"];\n      require(deps, displayChart, err => showError(`Error loading script: ${err.message}`));\n    } else {\n      maybeLoadScript(\"vega\", \"5\")\n        .then(() => maybeLoadScript(\"vega-lite\", \"5.20.1\"))\n        .then(() => maybeLoadScript(\"vega-embed\", \"6\"))\n        .catch(showError)\n        .then(() => displayChart(vegaEmbed));\n    }\n  })({\"config\": {\"view\": {\"continuousWidth\": 300, \"continuousHeight\": 300}}, \"data\": {\"name\": \"data-5e07977146f565fc4a5fa7fada4eb872\"}, \"mark\": {\"type\": \"area\"}, \"encoding\": {\"color\": {\"field\": \"Category\", \"legend\": null, \"type\": \"nominal\"}, \"x\": {\"axis\": null, \"field\": \"Year\", \"title\": \"Year\", \"type\": \"ordinal\"}, \"y\": {\"axis\": null, \"field\": \"Value\", \"stack\": \"zero\", \"title\": \"Value\", \"type\": \"quantitative\"}}, \"height\": 400, \"width\": 600, \"$schema\": \"https://vega.github.io/schema/vega-lite/v5.20.1.json\", \"datasets\": {\"data-5e07977146f565fc4a5fa7fada4eb872\": [{\"Year\": 2018, \"Category\": \"A\", \"Value\": 87}, {\"Year\": 2018, \"Category\": \"B\", \"Value\": 74}, {\"Year\": 2018, \"Category\": \"C\", \"Value\": 55}, {\"Year\": 2019, \"Category\": \"A\", \"Value\": 65}, {\"Year\": 2019, \"Category\": \"B\", \"Value\": 80}, {\"Year\": 2019, \"Category\": \"C\", \"Value\": 26}, {\"Year\": 2020, \"Category\": \"A\", \"Value\": 69}, {\"Year\": 2020, \"Category\": \"B\", \"Value\": 66}, {\"Year\": 2020, \"Category\": \"C\", \"Value\": 88}, {\"Year\": 2021, \"Category\": \"A\", \"Value\": 91}, {\"Year\": 2021, \"Category\": \"B\", \"Value\": 28}, {\"Year\": 2021, \"Category\": \"C\", \"Value\": 47}, {\"Year\": 2022, \"Category\": \"A\", \"Value\": 21}, {\"Year\": 2022, \"Category\": \"B\", \"Value\": 94}, {\"Year\": 2022, \"Category\": \"C\", \"Value\": 74}, {\"Year\": 2023, \"Category\": \"A\", \"Value\": 57}, {\"Year\": 2023, \"Category\": \"B\", \"Value\": 26}, {\"Year\": 2023, \"Category\": \"C\", \"Value\": 47}]}}, {\"mode\": \"vega-lite\"});\n</script>",
      "text/plain": "alt.Chart(...)"
     },
     "execution_count": 17,
     "metadata": {},
     "output_type": "execute_result"
    }
   ],
   "source": [
    "# stacked area chart\n",
    "years = [2018, 2019, 2020, 2021, 2022, 2023]\n",
    "categories = ['A', 'B', 'C']\n",
    "\n",
    "data = []\n",
    "for year in years:\n",
    "    for category in categories:\n",
    "        data.append({\n",
    "            'Year': year,\n",
    "            'Category': category,\n",
    "            'Value': random.randint(1, 100) \n",
    "        })\n",
    "\n",
    "source = pd.DataFrame(data)\n",
    "\n",
    "chart = alt.Chart(source).mark_area().encode(\n",
    "    x=alt.X('Year:O', title='Year', axis=None),  \n",
    "    y=alt.Y('Value:Q', title='Value', stack='zero', axis=None), \n",
    "    color=alt.Color('Category:N', legend=None)  \n",
    ").properties(\n",
    "    width=600,\n",
    "    height=400\n",
    ")\n",
    "\n",
    "chart\n"
   ],
   "metadata": {
    "collapsed": false,
    "ExecuteTime": {
     "end_time": "2024-12-16T13:01:22.138331600Z",
     "start_time": "2024-12-16T13:01:22.070945300Z"
    }
   },
   "id": "d896edbc474a152f"
  },
  {
   "cell_type": "code",
   "execution_count": 67,
   "outputs": [
    {
     "data": {
      "text/html": "\n<style>\n  #altair-viz-728cab5e58b241e08a1d12e8761646db.vega-embed {\n    width: 100%;\n    display: flex;\n  }\n\n  #altair-viz-728cab5e58b241e08a1d12e8761646db.vega-embed details,\n  #altair-viz-728cab5e58b241e08a1d12e8761646db.vega-embed details summary {\n    position: relative;\n  }\n</style>\n<div id=\"altair-viz-728cab5e58b241e08a1d12e8761646db\"></div>\n<script type=\"text/javascript\">\n  var VEGA_DEBUG = (typeof VEGA_DEBUG == \"undefined\") ? {} : VEGA_DEBUG;\n  (function(spec, embedOpt){\n    let outputDiv = document.currentScript.previousElementSibling;\n    if (outputDiv.id !== \"altair-viz-728cab5e58b241e08a1d12e8761646db\") {\n      outputDiv = document.getElementById(\"altair-viz-728cab5e58b241e08a1d12e8761646db\");\n    }\n\n    const paths = {\n      \"vega\": \"https://cdn.jsdelivr.net/npm/vega@5?noext\",\n      \"vega-lib\": \"https://cdn.jsdelivr.net/npm/vega-lib?noext\",\n      \"vega-lite\": \"https://cdn.jsdelivr.net/npm/vega-lite@5.20.1?noext\",\n      \"vega-embed\": \"https://cdn.jsdelivr.net/npm/vega-embed@6?noext\",\n    };\n\n    function maybeLoadScript(lib, version) {\n      var key = `${lib.replace(\"-\", \"\")}_version`;\n      return (VEGA_DEBUG[key] == version) ?\n        Promise.resolve(paths[lib]) :\n        new Promise(function(resolve, reject) {\n          var s = document.createElement('script');\n          document.getElementsByTagName(\"head\")[0].appendChild(s);\n          s.async = true;\n          s.onload = () => {\n            VEGA_DEBUG[key] = version;\n            return resolve(paths[lib]);\n          };\n          s.onerror = () => reject(`Error loading script: ${paths[lib]}`);\n          s.src = paths[lib];\n        });\n    }\n\n    function showError(err) {\n      outputDiv.innerHTML = `<div class=\"error\" style=\"color:red;\">${err}</div>`;\n      throw err;\n    }\n\n    function displayChart(vegaEmbed) {\n      vegaEmbed(outputDiv, spec, embedOpt)\n        .catch(err => showError(`Javascript Error: ${err.message}<br>This usually means there's a typo in your chart specification. See the javascript console for the full traceback.`));\n    }\n\n    if(typeof define === \"function\" && define.amd) {\n      requirejs.config({paths});\n      let deps = [\"vega-embed\"];\n      require(deps, displayChart, err => showError(`Error loading script: ${err.message}`));\n    } else {\n      maybeLoadScript(\"vega\", \"5\")\n        .then(() => maybeLoadScript(\"vega-lite\", \"5.20.1\"))\n        .then(() => maybeLoadScript(\"vega-embed\", \"6\"))\n        .catch(showError)\n        .then(() => displayChart(vegaEmbed));\n    }\n  })({\"config\": {\"view\": {\"continuousWidth\": 300, \"continuousHeight\": 300}}, \"data\": {\"name\": \"data-98607ee6de2890b65daa2c8bc495c777\"}, \"mark\": {\"type\": \"bar\"}, \"encoding\": {\"color\": {\"field\": \"Category\", \"legend\": null, \"scale\": {\"scheme\": \"blues\"}, \"type\": \"nominal\"}, \"x\": {\"axis\": null, \"field\": \"Year\", \"type\": \"nominal\"}, \"y\": {\"axis\": null, \"field\": \"Value\", \"type\": \"quantitative\"}}, \"height\": 300, \"width\": 200, \"$schema\": \"https://vega.github.io/schema/vega-lite/v5.20.1.json\", \"datasets\": {\"data-98607ee6de2890b65daa2c8bc495c777\": [{\"Year\": 2018, \"Category\": \"A\", \"Value\": 89}, {\"Year\": 2018, \"Category\": \"B\", \"Value\": 11}, {\"Year\": 2018, \"Category\": \"C\", \"Value\": 54}, {\"Year\": 2018, \"Category\": \"D\", \"Value\": 83}, {\"Year\": 2019, \"Category\": \"A\", \"Value\": 96}, {\"Year\": 2019, \"Category\": \"B\", \"Value\": 4}, {\"Year\": 2019, \"Category\": \"C\", \"Value\": 65}, {\"Year\": 2019, \"Category\": \"D\", \"Value\": 41}, {\"Year\": 2020, \"Category\": \"A\", \"Value\": 37}, {\"Year\": 2020, \"Category\": \"B\", \"Value\": 42}, {\"Year\": 2020, \"Category\": \"C\", \"Value\": 4}, {\"Year\": 2020, \"Category\": \"D\", \"Value\": 73}]}}, {\"mode\": \"vega-lite\"});\n</script>",
      "text/plain": "alt.Chart(...)"
     },
     "execution_count": 67,
     "metadata": {},
     "output_type": "execute_result"
    }
   ],
   "source": [
    "# stacked bar chart \n",
    "\n",
    "years = [2018, 2019, 2020]\n",
    "categories = ['A', 'B', 'C', 'D']\n",
    "\n",
    "data = []\n",
    "for year in years:\n",
    "    for category in categories:\n",
    "        data.append({\n",
    "            'Year': year,\n",
    "            'Category': category,\n",
    "            'Value': random.randint(1, 100) \n",
    "        })\n",
    "\n",
    "source = pd.DataFrame(data)\n",
    "# add different blues instead of basic color scheme\n",
    "\n",
    "chart = alt.Chart(source).mark_bar().encode(\n",
    "    x=alt.X('Year:N', axis=None),  \n",
    "    y=alt.Y('Value:Q', axis=None),\n",
    "    color = alt.Color('Category:N',legend=None).scale(scheme='blues')\n",
    ").properties(width=200, height=300)\n",
    "\n",
    "chart"
   ],
   "metadata": {
    "collapsed": false,
    "ExecuteTime": {
     "end_time": "2024-12-16T13:25:02.777052800Z",
     "start_time": "2024-12-16T13:25:02.746957Z"
    }
   },
   "id": "82037c84a3223ddf"
  },
  {
   "cell_type": "code",
   "execution_count": 66,
   "outputs": [
    {
     "data": {
      "text/html": "\n<style>\n  #altair-viz-8465309657d743199124889d1442ee66.vega-embed {\n    width: 100%;\n    display: flex;\n  }\n\n  #altair-viz-8465309657d743199124889d1442ee66.vega-embed details,\n  #altair-viz-8465309657d743199124889d1442ee66.vega-embed details summary {\n    position: relative;\n  }\n</style>\n<div id=\"altair-viz-8465309657d743199124889d1442ee66\"></div>\n<script type=\"text/javascript\">\n  var VEGA_DEBUG = (typeof VEGA_DEBUG == \"undefined\") ? {} : VEGA_DEBUG;\n  (function(spec, embedOpt){\n    let outputDiv = document.currentScript.previousElementSibling;\n    if (outputDiv.id !== \"altair-viz-8465309657d743199124889d1442ee66\") {\n      outputDiv = document.getElementById(\"altair-viz-8465309657d743199124889d1442ee66\");\n    }\n\n    const paths = {\n      \"vega\": \"https://cdn.jsdelivr.net/npm/vega@5?noext\",\n      \"vega-lib\": \"https://cdn.jsdelivr.net/npm/vega-lib?noext\",\n      \"vega-lite\": \"https://cdn.jsdelivr.net/npm/vega-lite@5.20.1?noext\",\n      \"vega-embed\": \"https://cdn.jsdelivr.net/npm/vega-embed@6?noext\",\n    };\n\n    function maybeLoadScript(lib, version) {\n      var key = `${lib.replace(\"-\", \"\")}_version`;\n      return (VEGA_DEBUG[key] == version) ?\n        Promise.resolve(paths[lib]) :\n        new Promise(function(resolve, reject) {\n          var s = document.createElement('script');\n          document.getElementsByTagName(\"head\")[0].appendChild(s);\n          s.async = true;\n          s.onload = () => {\n            VEGA_DEBUG[key] = version;\n            return resolve(paths[lib]);\n          };\n          s.onerror = () => reject(`Error loading script: ${paths[lib]}`);\n          s.src = paths[lib];\n        });\n    }\n\n    function showError(err) {\n      outputDiv.innerHTML = `<div class=\"error\" style=\"color:red;\">${err}</div>`;\n      throw err;\n    }\n\n    function displayChart(vegaEmbed) {\n      vegaEmbed(outputDiv, spec, embedOpt)\n        .catch(err => showError(`Javascript Error: ${err.message}<br>This usually means there's a typo in your chart specification. See the javascript console for the full traceback.`));\n    }\n\n    if(typeof define === \"function\" && define.amd) {\n      requirejs.config({paths});\n      let deps = [\"vega-embed\"];\n      require(deps, displayChart, err => showError(`Error loading script: ${err.message}`));\n    } else {\n      maybeLoadScript(\"vega\", \"5\")\n        .then(() => maybeLoadScript(\"vega-lite\", \"5.20.1\"))\n        .then(() => maybeLoadScript(\"vega-embed\", \"6\"))\n        .catch(showError)\n        .then(() => displayChart(vegaEmbed));\n    }\n  })({\"config\": {\"view\": {\"continuousWidth\": 300, \"continuousHeight\": 300}, \"axis\": {\"domainColor\": \"lightblue\", \"grid\": false}}, \"data\": {\"name\": \"data-91891c54500be3360b1c3115d5188166\"}, \"mark\": {\"type\": \"line\"}, \"encoding\": {\"color\": {\"field\": \"Category\", \"legend\": null, \"scale\": {\"scheme\": \"blues\"}, \"type\": \"nominal\"}, \"detail\": {\"field\": \"Category\", \"type\": \"nominal\"}, \"x\": {\"axis\": null, \"field\": \"Period\", \"title\": null, \"type\": \"nominal\"}, \"y\": {\"axis\": null, \"field\": \"Value\", \"title\": null, \"type\": \"quantitative\"}}, \"height\": 300, \"title\": \"Slope Chart\", \"width\": 200, \"$schema\": \"https://vega.github.io/schema/vega-lite/v5.20.1.json\", \"datasets\": {\"data-91891c54500be3360b1c3115d5188166\": [{\"Category\": \"A\", \"Period\": \"Start\", \"Value\": 10}, {\"Category\": \"B\", \"Period\": \"Start\", \"Value\": 30}, {\"Category\": \"C\", \"Period\": \"Start\", \"Value\": 15}, {\"Category\": \"D\", \"Period\": \"Start\", \"Value\": 20}, {\"Category\": \"E\", \"Period\": \"Start\", \"Value\": 40}, {\"Category\": \"F\", \"Period\": \"Start\", \"Value\": 25}, {\"Category\": \"G\", \"Period\": \"Start\", \"Value\": 5}, {\"Category\": \"A\", \"Period\": \"End\", \"Value\": 20}, {\"Category\": \"B\", \"Period\": \"End\", \"Value\": 50}, {\"Category\": \"C\", \"Period\": \"End\", \"Value\": 35}, {\"Category\": \"D\", \"Period\": \"End\", \"Value\": 15}, {\"Category\": \"E\", \"Period\": \"End\", \"Value\": 60}, {\"Category\": \"F\", \"Period\": \"End\", \"Value\": 10}, {\"Category\": \"G\", \"Period\": \"End\", \"Value\": 30}]}}, {\"mode\": \"vega-lite\"});\n</script>",
      "text/plain": "alt.Chart(...)"
     },
     "execution_count": 66,
     "metadata": {},
     "output_type": "execute_result"
    }
   ],
   "source": [
    "import altair as alt\n",
    "import pandas as pd\n",
    "\n",
    "source = pd.DataFrame({\n",
    "    'Category': ['A', 'B', 'C', 'D', 'E', 'F', 'G'] * 2, \n",
    "    'Period': ['Start'] * 7 + ['End'] * 7,  \n",
    "    'Value': [10, 30, 15, 20, 40, 25, 5, 20, 50, 35, 15, 60, 10, 30]  \n",
    "})\n",
    "\n",
    "# Create the slope chart\n",
    "chart = alt.Chart(source).mark_line().encode(\n",
    "    x=alt.X('Period:N', title=None, axis=None), \n",
    "    y=alt.Y('Value:Q', title=None, axis=None),  \n",
    "    color=alt.Color('Category:N', legend=None).scale(scheme='blues'),\n",
    "    detail='Category:N'  \n",
    ").properties(\n",
    "    width=200,\n",
    "    height=300,\n",
    "    title=\"Slope Chart\"\n",
    ").configure_axis(\n",
    "    grid=False, \n",
    "    domainColor='lightblue' \n",
    ")\n",
    "\n",
    "chart\n"
   ],
   "metadata": {
    "collapsed": false,
    "ExecuteTime": {
     "end_time": "2024-12-16T13:24:39.076459800Z",
     "start_time": "2024-12-16T13:24:39.049136800Z"
    }
   },
   "id": "ec18ac9ecb65b9e7"
  },
  {
   "cell_type": "code",
   "execution_count": 104,
   "outputs": [
    {
     "data": {
      "text/html": "\n<style>\n  #altair-viz-e19444de0bd24ff89cf4723a3462b24d.vega-embed {\n    width: 100%;\n    display: flex;\n  }\n\n  #altair-viz-e19444de0bd24ff89cf4723a3462b24d.vega-embed details,\n  #altair-viz-e19444de0bd24ff89cf4723a3462b24d.vega-embed details summary {\n    position: relative;\n  }\n</style>\n<div id=\"altair-viz-e19444de0bd24ff89cf4723a3462b24d\"></div>\n<script type=\"text/javascript\">\n  var VEGA_DEBUG = (typeof VEGA_DEBUG == \"undefined\") ? {} : VEGA_DEBUG;\n  (function(spec, embedOpt){\n    let outputDiv = document.currentScript.previousElementSibling;\n    if (outputDiv.id !== \"altair-viz-e19444de0bd24ff89cf4723a3462b24d\") {\n      outputDiv = document.getElementById(\"altair-viz-e19444de0bd24ff89cf4723a3462b24d\");\n    }\n\n    const paths = {\n      \"vega\": \"https://cdn.jsdelivr.net/npm/vega@5?noext\",\n      \"vega-lib\": \"https://cdn.jsdelivr.net/npm/vega-lib?noext\",\n      \"vega-lite\": \"https://cdn.jsdelivr.net/npm/vega-lite@5.20.1?noext\",\n      \"vega-embed\": \"https://cdn.jsdelivr.net/npm/vega-embed@6?noext\",\n    };\n\n    function maybeLoadScript(lib, version) {\n      var key = `${lib.replace(\"-\", \"\")}_version`;\n      return (VEGA_DEBUG[key] == version) ?\n        Promise.resolve(paths[lib]) :\n        new Promise(function(resolve, reject) {\n          var s = document.createElement('script');\n          document.getElementsByTagName(\"head\")[0].appendChild(s);\n          s.async = true;\n          s.onload = () => {\n            VEGA_DEBUG[key] = version;\n            return resolve(paths[lib]);\n          };\n          s.onerror = () => reject(`Error loading script: ${paths[lib]}`);\n          s.src = paths[lib];\n        });\n    }\n\n    function showError(err) {\n      outputDiv.innerHTML = `<div class=\"error\" style=\"color:red;\">${err}</div>`;\n      throw err;\n    }\n\n    function displayChart(vegaEmbed) {\n      vegaEmbed(outputDiv, spec, embedOpt)\n        .catch(err => showError(`Javascript Error: ${err.message}<br>This usually means there's a typo in your chart specification. See the javascript console for the full traceback.`));\n    }\n\n    if(typeof define === \"function\" && define.amd) {\n      requirejs.config({paths});\n      let deps = [\"vega-embed\"];\n      require(deps, displayChart, err => showError(`Error loading script: ${err.message}`));\n    } else {\n      maybeLoadScript(\"vega\", \"5\")\n        .then(() => maybeLoadScript(\"vega-lite\", \"5.20.1\"))\n        .then(() => maybeLoadScript(\"vega-embed\", \"6\"))\n        .catch(showError)\n        .then(() => displayChart(vegaEmbed));\n    }\n  })({\"config\": {\"view\": {\"continuousWidth\": 300, \"continuousHeight\": 300}, \"axis\": {\"grid\": false}}, \"data\": {\"name\": \"data-1eebc69ae0398e5b0eab581f41e2345e\"}, \"mark\": {\"type\": \"circle\", \"size\": 60}, \"encoding\": {\"x\": {\"axis\": {\"domainColor\": \"blue\", \"labels\": false, \"ticks\": false, \"title\": null}, \"field\": \"x\", \"type\": \"quantitative\"}, \"y\": {\"axis\": {\"domainColor\": \"blue\", \"labels\": false, \"ticks\": false, \"title\": null}, \"field\": \"y\", \"type\": \"quantitative\"}}, \"height\": 200, \"width\": 200, \"$schema\": \"https://vega.github.io/schema/vega-lite/v5.20.1.json\", \"datasets\": {\"data-1eebc69ae0398e5b0eab581f41e2345e\": [{\"x\": 1, \"y\": 49}, {\"x\": 36, \"y\": 27}, {\"x\": 24, \"y\": 48}, {\"x\": 16, \"y\": 29}, {\"x\": 17, \"y\": 18}, {\"x\": 20, \"y\": 2}, {\"x\": 35, \"y\": 4}, {\"x\": 17, \"y\": 3}, {\"x\": 4, \"y\": 8}, {\"x\": 9, \"y\": 28}, {\"x\": 2, \"y\": 19}, {\"x\": 31, \"y\": 38}, {\"x\": 34, \"y\": 14}, {\"x\": 34, \"y\": 22}, {\"x\": 46, \"y\": 32}, {\"x\": 38, \"y\": 27}, {\"x\": 48, \"y\": 48}, {\"x\": 8, \"y\": 2}, {\"x\": 41, \"y\": 9}, {\"x\": 18, \"y\": 12}, {\"x\": 29, \"y\": 20}, {\"x\": 4, \"y\": 9}, {\"x\": 1, \"y\": 5}, {\"x\": 11, \"y\": 44}, {\"x\": 30, \"y\": 25}]}}, {\"mode\": \"vega-lite\"});\n</script>",
      "text/plain": "alt.Chart(...)"
     },
     "execution_count": 104,
     "metadata": {},
     "output_type": "execute_result"
    }
   ],
   "source": [
    "# scatter\n",
    "\n",
    "source = pd.DataFrame({\n",
    "    'x': [random.randint(1,50) for _ in range(25)] ,\n",
    "    'y': [random.randint(1,50) for _ in range(25)]\n",
    "})\n",
    "\n",
    "chart = alt.Chart(source).mark_circle(size=60).encode(\n",
    "   x=alt.X('x:Q' , axis=alt.Axis(labels=False, ticks=False, title=None, domainColor='blue')), \n",
    "    y=alt.Y('y:Q',  axis=alt.Axis(labels=False, ticks=False, title=None, domainColor='blue')),  \n",
    ").configure_axis(\n",
    "    grid=False,  # Remove grid lines\n",
    ").properties(width=200, height= 200)\n",
    "\n",
    "chart"
   ],
   "metadata": {
    "collapsed": false,
    "ExecuteTime": {
     "end_time": "2024-12-16T13:41:36.221758300Z",
     "start_time": "2024-12-16T13:41:36.189749200Z"
    }
   },
   "id": "91c6e1d42725df36"
  },
  {
   "cell_type": "code",
   "execution_count": 102,
   "outputs": [
    {
     "data": {
      "text/html": "\n<style>\n  #altair-viz-fb91591f2e984384ad25d4f6b0301706.vega-embed {\n    width: 100%;\n    display: flex;\n  }\n\n  #altair-viz-fb91591f2e984384ad25d4f6b0301706.vega-embed details,\n  #altair-viz-fb91591f2e984384ad25d4f6b0301706.vega-embed details summary {\n    position: relative;\n  }\n</style>\n<div id=\"altair-viz-fb91591f2e984384ad25d4f6b0301706\"></div>\n<script type=\"text/javascript\">\n  var VEGA_DEBUG = (typeof VEGA_DEBUG == \"undefined\") ? {} : VEGA_DEBUG;\n  (function(spec, embedOpt){\n    let outputDiv = document.currentScript.previousElementSibling;\n    if (outputDiv.id !== \"altair-viz-fb91591f2e984384ad25d4f6b0301706\") {\n      outputDiv = document.getElementById(\"altair-viz-fb91591f2e984384ad25d4f6b0301706\");\n    }\n\n    const paths = {\n      \"vega\": \"https://cdn.jsdelivr.net/npm/vega@5?noext\",\n      \"vega-lib\": \"https://cdn.jsdelivr.net/npm/vega-lib?noext\",\n      \"vega-lite\": \"https://cdn.jsdelivr.net/npm/vega-lite@5.20.1?noext\",\n      \"vega-embed\": \"https://cdn.jsdelivr.net/npm/vega-embed@6?noext\",\n    };\n\n    function maybeLoadScript(lib, version) {\n      var key = `${lib.replace(\"-\", \"\")}_version`;\n      return (VEGA_DEBUG[key] == version) ?\n        Promise.resolve(paths[lib]) :\n        new Promise(function(resolve, reject) {\n          var s = document.createElement('script');\n          document.getElementsByTagName(\"head\")[0].appendChild(s);\n          s.async = true;\n          s.onload = () => {\n            VEGA_DEBUG[key] = version;\n            return resolve(paths[lib]);\n          };\n          s.onerror = () => reject(`Error loading script: ${paths[lib]}`);\n          s.src = paths[lib];\n        });\n    }\n\n    function showError(err) {\n      outputDiv.innerHTML = `<div class=\"error\" style=\"color:red;\">${err}</div>`;\n      throw err;\n    }\n\n    function displayChart(vegaEmbed) {\n      vegaEmbed(outputDiv, spec, embedOpt)\n        .catch(err => showError(`Javascript Error: ${err.message}<br>This usually means there's a typo in your chart specification. See the javascript console for the full traceback.`));\n    }\n\n    if(typeof define === \"function\" && define.amd) {\n      requirejs.config({paths});\n      let deps = [\"vega-embed\"];\n      require(deps, displayChart, err => showError(`Error loading script: ${err.message}`));\n    } else {\n      maybeLoadScript(\"vega\", \"5\")\n        .then(() => maybeLoadScript(\"vega-lite\", \"5.20.1\"))\n        .then(() => maybeLoadScript(\"vega-embed\", \"6\"))\n        .catch(showError)\n        .then(() => displayChart(vegaEmbed));\n    }\n  })({\"config\": {\"view\": {\"continuousWidth\": 300, \"continuousHeight\": 300}, \"axis\": {\"grid\": false}}, \"data\": {\"name\": \"data-8025c2598cdfeaab5bfc20adc97dc821\"}, \"mark\": {\"type\": \"line\"}, \"encoding\": {\"x\": {\"axis\": {\"domainColor\": \"blue\", \"labels\": false, \"ticks\": false, \"title\": null}, \"field\": \"x\", \"type\": \"quantitative\"}, \"y\": {\"axis\": {\"domainColor\": \"blue\", \"labels\": false, \"ticks\": false, \"title\": null}, \"field\": \"y\", \"type\": \"quantitative\"}}, \"height\": 200, \"width\": 200, \"$schema\": \"https://vega.github.io/schema/vega-lite/v5.20.1.json\", \"datasets\": {\"data-8025c2598cdfeaab5bfc20adc97dc821\": [{\"x\": 0, \"y\": 2}, {\"x\": 1, \"y\": 4}, {\"x\": 2, \"y\": 1}, {\"x\": 3, \"y\": 5}, {\"x\": 4, \"y\": 9}]}}, {\"mode\": \"vega-lite\"});\n</script>",
      "text/plain": "alt.Chart(...)"
     },
     "execution_count": 102,
     "metadata": {},
     "output_type": "execute_result"
    }
   ],
   "source": [
    "# line \n",
    "\n",
    "# Sample data for a slope chart\n",
    "source = pd.DataFrame({\n",
    "    'x': pd.Series(range(5)) ,\n",
    "    'y': [random.randint(1,10) for _ in range(5)]\n",
    "})\n",
    "\n",
    "# Create the slope chart\n",
    "chart = alt.Chart(source).mark_line().encode(\n",
    "    x=alt.X('x:Q',axis=alt.Axis(labels=False, ticks=False, title=None, domainColor='blue')), \n",
    "    y=alt.Y('y:Q', axis=alt.Axis(labels=False, ticks=False, title=None, domainColor='blue'))\n",
    ").properties(\n",
    "    width=200,\n",
    "    height=200\n",
    ").configure_axis(\n",
    "    grid=False,  # Remove grid lines\n",
    ")\n",
    "\n",
    "chart"
   ],
   "metadata": {
    "collapsed": false,
    "ExecuteTime": {
     "end_time": "2024-12-16T13:40:30.106685400Z",
     "start_time": "2024-12-16T13:40:30.064452500Z"
    }
   },
   "id": "ee047350841533ad"
  },
  {
   "cell_type": "code",
   "execution_count": 109,
   "outputs": [
    {
     "data": {
      "text/html": "\n<style>\n  #altair-viz-f5ca07264ba64ecb9d72cc3cd107b473.vega-embed {\n    width: 100%;\n    display: flex;\n  }\n\n  #altair-viz-f5ca07264ba64ecb9d72cc3cd107b473.vega-embed details,\n  #altair-viz-f5ca07264ba64ecb9d72cc3cd107b473.vega-embed details summary {\n    position: relative;\n  }\n</style>\n<div id=\"altair-viz-f5ca07264ba64ecb9d72cc3cd107b473\"></div>\n<script type=\"text/javascript\">\n  var VEGA_DEBUG = (typeof VEGA_DEBUG == \"undefined\") ? {} : VEGA_DEBUG;\n  (function(spec, embedOpt){\n    let outputDiv = document.currentScript.previousElementSibling;\n    if (outputDiv.id !== \"altair-viz-f5ca07264ba64ecb9d72cc3cd107b473\") {\n      outputDiv = document.getElementById(\"altair-viz-f5ca07264ba64ecb9d72cc3cd107b473\");\n    }\n\n    const paths = {\n      \"vega\": \"https://cdn.jsdelivr.net/npm/vega@5?noext\",\n      \"vega-lib\": \"https://cdn.jsdelivr.net/npm/vega-lib?noext\",\n      \"vega-lite\": \"https://cdn.jsdelivr.net/npm/vega-lite@5.20.1?noext\",\n      \"vega-embed\": \"https://cdn.jsdelivr.net/npm/vega-embed@6?noext\",\n    };\n\n    function maybeLoadScript(lib, version) {\n      var key = `${lib.replace(\"-\", \"\")}_version`;\n      return (VEGA_DEBUG[key] == version) ?\n        Promise.resolve(paths[lib]) :\n        new Promise(function(resolve, reject) {\n          var s = document.createElement('script');\n          document.getElementsByTagName(\"head\")[0].appendChild(s);\n          s.async = true;\n          s.onload = () => {\n            VEGA_DEBUG[key] = version;\n            return resolve(paths[lib]);\n          };\n          s.onerror = () => reject(`Error loading script: ${paths[lib]}`);\n          s.src = paths[lib];\n        });\n    }\n\n    function showError(err) {\n      outputDiv.innerHTML = `<div class=\"error\" style=\"color:red;\">${err}</div>`;\n      throw err;\n    }\n\n    function displayChart(vegaEmbed) {\n      vegaEmbed(outputDiv, spec, embedOpt)\n        .catch(err => showError(`Javascript Error: ${err.message}<br>This usually means there's a typo in your chart specification. See the javascript console for the full traceback.`));\n    }\n\n    if(typeof define === \"function\" && define.amd) {\n      requirejs.config({paths});\n      let deps = [\"vega-embed\"];\n      require(deps, displayChart, err => showError(`Error loading script: ${err.message}`));\n    } else {\n      maybeLoadScript(\"vega\", \"5\")\n        .then(() => maybeLoadScript(\"vega-lite\", \"5.20.1\"))\n        .then(() => maybeLoadScript(\"vega-embed\", \"6\"))\n        .catch(showError)\n        .then(() => displayChart(vegaEmbed));\n    }\n  })({\"config\": {\"view\": {\"continuousWidth\": 300, \"continuousHeight\": 300, \"strokeWidth\": 0}, \"axis\": {\"grid\": false}}, \"data\": {\"name\": \"data-37b6099736f6a56963e3712522767d2c\"}, \"mark\": {\"type\": \"rect\"}, \"encoding\": {\"color\": {\"field\": \"value\", \"legend\": null, \"scale\": {\"scheme\": \"blues\"}, \"type\": \"quantitative\"}, \"x\": {\"axis\": null, \"field\": \"col\", \"title\": null, \"type\": \"nominal\"}, \"y\": {\"axis\": null, \"field\": \"row\", \"title\": null, \"type\": \"nominal\"}}, \"height\": 200, \"width\": 200, \"$schema\": \"https://vega.github.io/schema/vega-lite/v5.20.1.json\", \"datasets\": {\"data-37b6099736f6a56963e3712522767d2c\": [{\"row\": 1, \"col\": 1, \"value\": 50}, {\"row\": 1, \"col\": 2, \"value\": 100}, {\"row\": 2, \"col\": 1, \"value\": 20}, {\"row\": 2, \"col\": 2, \"value\": 60}]}}, {\"mode\": \"vega-lite\"});\n</script>",
      "text/plain": "alt.Chart(...)"
     },
     "execution_count": 109,
     "metadata": {},
     "output_type": "execute_result"
    }
   ],
   "source": [
    "source = pd.DataFrame({\n",
    "    'row': [1, 1, 2, 2],  \n",
    "    'col': [1, 2, 1, 2], \n",
    "    'value': [50, 100, 20, 60]  \n",
    "})\n",
    "\n",
    "chart = alt.Chart(source).mark_rect().encode(\n",
    "    x=alt.X('col:N', title=None, axis=None),  \n",
    "    y=alt.Y('row:N', title=None, axis=None),  \n",
    "    color=alt.Color('value:Q', legend=None).scale(scheme='blues')\n",
    ").properties(\n",
    "    width=200,\n",
    "    height=200\n",
    ").configure_axis(\n",
    "    grid=False\n",
    ").configure_view(\n",
    "    strokeWidth=0  \n",
    ")\n",
    "\n",
    "chart\n"
   ],
   "metadata": {
    "collapsed": false,
    "ExecuteTime": {
     "end_time": "2024-12-16T13:45:59.765029800Z",
     "start_time": "2024-12-16T13:45:59.668987300Z"
    }
   },
   "id": "57670773759887e7"
  },
  {
   "cell_type": "code",
   "execution_count": 122,
   "outputs": [
    {
     "data": {
      "text/html": "\n<style>\n  #altair-viz-0fe8b236085c494e8099c53398e8527b.vega-embed {\n    width: 100%;\n    display: flex;\n  }\n\n  #altair-viz-0fe8b236085c494e8099c53398e8527b.vega-embed details,\n  #altair-viz-0fe8b236085c494e8099c53398e8527b.vega-embed details summary {\n    position: relative;\n  }\n</style>\n<div id=\"altair-viz-0fe8b236085c494e8099c53398e8527b\"></div>\n<script type=\"text/javascript\">\n  var VEGA_DEBUG = (typeof VEGA_DEBUG == \"undefined\") ? {} : VEGA_DEBUG;\n  (function(spec, embedOpt){\n    let outputDiv = document.currentScript.previousElementSibling;\n    if (outputDiv.id !== \"altair-viz-0fe8b236085c494e8099c53398e8527b\") {\n      outputDiv = document.getElementById(\"altair-viz-0fe8b236085c494e8099c53398e8527b\");\n    }\n\n    const paths = {\n      \"vega\": \"https://cdn.jsdelivr.net/npm/vega@5?noext\",\n      \"vega-lib\": \"https://cdn.jsdelivr.net/npm/vega-lib?noext\",\n      \"vega-lite\": \"https://cdn.jsdelivr.net/npm/vega-lite@5.20.1?noext\",\n      \"vega-embed\": \"https://cdn.jsdelivr.net/npm/vega-embed@6?noext\",\n    };\n\n    function maybeLoadScript(lib, version) {\n      var key = `${lib.replace(\"-\", \"\")}_version`;\n      return (VEGA_DEBUG[key] == version) ?\n        Promise.resolve(paths[lib]) :\n        new Promise(function(resolve, reject) {\n          var s = document.createElement('script');\n          document.getElementsByTagName(\"head\")[0].appendChild(s);\n          s.async = true;\n          s.onload = () => {\n            VEGA_DEBUG[key] = version;\n            return resolve(paths[lib]);\n          };\n          s.onerror = () => reject(`Error loading script: ${paths[lib]}`);\n          s.src = paths[lib];\n        });\n    }\n\n    function showError(err) {\n      outputDiv.innerHTML = `<div class=\"error\" style=\"color:red;\">${err}</div>`;\n      throw err;\n    }\n\n    function displayChart(vegaEmbed) {\n      vegaEmbed(outputDiv, spec, embedOpt)\n        .catch(err => showError(`Javascript Error: ${err.message}<br>This usually means there's a typo in your chart specification. See the javascript console for the full traceback.`));\n    }\n\n    if(typeof define === \"function\" && define.amd) {\n      requirejs.config({paths});\n      let deps = [\"vega-embed\"];\n      require(deps, displayChart, err => showError(`Error loading script: ${err.message}`));\n    } else {\n      maybeLoadScript(\"vega\", \"5\")\n        .then(() => maybeLoadScript(\"vega-lite\", \"5.20.1\"))\n        .then(() => maybeLoadScript(\"vega-embed\", \"6\"))\n        .catch(showError)\n        .then(() => displayChart(vegaEmbed));\n    }\n  })({\"config\": {\"view\": {\"continuousWidth\": 300, \"continuousHeight\": 300}, \"axis\": {\"grid\": false}}, \"data\": {\"name\": \"data-013b6927bcaef40581248d81d767634f\"}, \"mark\": {\"type\": \"line\", \"point\": {\"color\": \"deepskyblue\", \"size\": 100}}, \"encoding\": {\"x\": {\"axis\": null, \"field\": \"x\", \"type\": \"quantitative\"}, \"y\": {\"axis\": null, \"field\": \"y\", \"type\": \"quantitative\"}}, \"height\": 300, \"width\": 100, \"$schema\": \"https://vega.github.io/schema/vega-lite/v5.20.1.json\", \"datasets\": {\"data-013b6927bcaef40581248d81d767634f\": [{\"y\": 5, \"x\": 1}, {\"y\": 2, \"x\": 1}, {\"y\": 9, \"x\": 1}, {\"y\": 6, \"x\": 1}, {\"y\": 6, \"x\": 1}, {\"y\": 9, \"x\": 1}, {\"y\": 4, \"x\": 1}, {\"y\": 8, \"x\": 1}]}}, {\"mode\": \"vega-lite\"});\n</script>",
      "text/plain": "alt.Chart(...)"
     },
     "execution_count": 122,
     "metadata": {},
     "output_type": "execute_result"
    }
   ],
   "source": [
    "# dot plot \n",
    "source = pd.DataFrame({\n",
    "    'y': [random.randint(1,10) for _ in range(8)],\n",
    "    'x': [1] * 8\n",
    "})\n",
    "\n",
    "chart = alt.Chart(source).mark_line(point=alt.MarkConfig(size=100, color='deepskyblue')).encode(\n",
    "    x=alt.X('x:Q', axis=None),  \n",
    "    y=alt.Y('y:Q', axis=None)  \n",
    ").properties(\n",
    "    width=100,\n",
    "    height=300\n",
    ").configure_axis(\n",
    "    grid=False  \n",
    ")\n",
    "\n",
    "chart\n"
   ],
   "metadata": {
    "collapsed": false,
    "ExecuteTime": {
     "end_time": "2024-12-16T13:53:26.496137500Z",
     "start_time": "2024-12-16T13:53:26.478824200Z"
    }
   },
   "id": "a593f3ff580d3c30"
  },
  {
   "cell_type": "code",
   "execution_count": null,
   "outputs": [],
   "source": [],
   "metadata": {
    "collapsed": false
   },
   "id": "257c6bed274eea1b"
  }
 ],
 "metadata": {
  "kernelspec": {
   "display_name": "Python 3 (ipykernel)",
   "language": "python",
   "name": "python3"
  },
  "language_info": {
   "codemirror_mode": {
    "name": "ipython",
    "version": 3
   },
   "file_extension": ".py",
   "mimetype": "text/x-python",
   "name": "python",
   "nbconvert_exporter": "python",
   "pygments_lexer": "ipython3",
   "version": "3.9.13"
  }
 },
 "nbformat": 4,
 "nbformat_minor": 5
}
