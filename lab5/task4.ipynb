{
 "cells": [
  {
   "cell_type": "code",
   "execution_count": 70,
   "id": "initial_id",
   "metadata": {
    "collapsed": true,
    "ExecuteTime": {
     "end_time": "2024-12-16T14:37:04.995305500Z",
     "start_time": "2024-12-16T14:37:04.954149600Z"
    }
   },
   "outputs": [
    {
     "data": {
      "text/html": "\n<style>\n  #altair-viz-81e19cd0ac994e75bc04b23570bee16d.vega-embed {\n    width: 100%;\n    display: flex;\n  }\n\n  #altair-viz-81e19cd0ac994e75bc04b23570bee16d.vega-embed details,\n  #altair-viz-81e19cd0ac994e75bc04b23570bee16d.vega-embed details summary {\n    position: relative;\n  }\n</style>\n<div id=\"altair-viz-81e19cd0ac994e75bc04b23570bee16d\"></div>\n<script type=\"text/javascript\">\n  var VEGA_DEBUG = (typeof VEGA_DEBUG == \"undefined\") ? {} : VEGA_DEBUG;\n  (function(spec, embedOpt){\n    let outputDiv = document.currentScript.previousElementSibling;\n    if (outputDiv.id !== \"altair-viz-81e19cd0ac994e75bc04b23570bee16d\") {\n      outputDiv = document.getElementById(\"altair-viz-81e19cd0ac994e75bc04b23570bee16d\");\n    }\n\n    const paths = {\n      \"vega\": \"https://cdn.jsdelivr.net/npm/vega@5?noext\",\n      \"vega-lib\": \"https://cdn.jsdelivr.net/npm/vega-lib?noext\",\n      \"vega-lite\": \"https://cdn.jsdelivr.net/npm/vega-lite@5.20.1?noext\",\n      \"vega-embed\": \"https://cdn.jsdelivr.net/npm/vega-embed@6?noext\",\n    };\n\n    function maybeLoadScript(lib, version) {\n      var key = `${lib.replace(\"-\", \"\")}_version`;\n      return (VEGA_DEBUG[key] == version) ?\n        Promise.resolve(paths[lib]) :\n        new Promise(function(resolve, reject) {\n          var s = document.createElement('script');\n          document.getElementsByTagName(\"head\")[0].appendChild(s);\n          s.async = true;\n          s.onload = () => {\n            VEGA_DEBUG[key] = version;\n            return resolve(paths[lib]);\n          };\n          s.onerror = () => reject(`Error loading script: ${paths[lib]}`);\n          s.src = paths[lib];\n        });\n    }\n\n    function showError(err) {\n      outputDiv.innerHTML = `<div class=\"error\" style=\"color:red;\">${err}</div>`;\n      throw err;\n    }\n\n    function displayChart(vegaEmbed) {\n      vegaEmbed(outputDiv, spec, embedOpt)\n        .catch(err => showError(`Javascript Error: ${err.message}<br>This usually means there's a typo in your chart specification. See the javascript console for the full traceback.`));\n    }\n\n    if(typeof define === \"function\" && define.amd) {\n      requirejs.config({paths});\n      let deps = [\"vega-embed\"];\n      require(deps, displayChart, err => showError(`Error loading script: ${err.message}`));\n    } else {\n      maybeLoadScript(\"vega\", \"5\")\n        .then(() => maybeLoadScript(\"vega-lite\", \"5.20.1\"))\n        .then(() => maybeLoadScript(\"vega-embed\", \"6\"))\n        .catch(showError)\n        .then(() => displayChart(vegaEmbed));\n    }\n  })({\"config\": {\"view\": {\"continuousWidth\": 300, \"continuousHeight\": 300}}, \"data\": {\"name\": \"data-8df9324917863ca63013f1db3c17b3e2\"}, \"facet\": {\"field\": \"Year\", \"title\": \"Analytics, Data Science and Machine Learning Platforms\", \"type\": \"nominal\"}, \"spec\": {\"mark\": {\"type\": \"arc\"}, \"encoding\": {\"color\": {\"field\": \"Category\", \"type\": \"nominal\"}, \"theta\": {\"field\": \"Value%\", \"type\": \"quantitative\"}, \"tooltip\": [{\"field\": \"Category\", \"type\": \"nominal\"}, {\"field\": \"Value%\", \"type\": \"quantitative\"}]}}, \"$schema\": \"https://vega.github.io/schema/vega-lite/v5.20.1.json\", \"datasets\": {\"data-8df9324917863ca63013f1db3c17b3e2\": [{\"Year\": 2016, \"Category\": \"Python\", \"Value%\": 34}, {\"Year\": 2016, \"Category\": \"R\", \"Value%\": 42}, {\"Year\": 2016, \"Category\": \"Both\", \"Value%\": 8}, {\"Year\": 2016, \"Category\": \"Others\", \"Value%\": 16}, {\"Year\": 2017, \"Category\": \"Python\", \"Value%\": 41}, {\"Year\": 2017, \"Category\": \"R\", \"Value%\": 36}, {\"Year\": 2017, \"Category\": \"Both\", \"Value%\": 12}, {\"Year\": 2017, \"Category\": \"Others\", \"Value%\": 11}]}}, {\"mode\": \"vega-lite\"});\n</script>",
      "text/plain": "alt.FacetChart(...)"
     },
     "execution_count": 70,
     "metadata": {},
     "output_type": "execute_result"
    }
   ],
   "source": [
    "import altair as alt\n",
    "import pandas as pd\n",
    "\n",
    "source = pd.DataFrame({\n",
    "    'Year': [2016, 2016, 2016, 2016, 2017, 2017, 2017, 2017],\n",
    "    'Category': ['Python', 'R', 'Both', 'Others', 'Python', 'R', 'Both', 'Others'],\n",
    "    'Value%': [34, 42, 8, 16, 41, 36, 12, 11] \n",
    "})\n",
    "\n",
    "chart = alt.Chart(source).mark_arc().encode(\n",
    "    theta=alt.Theta('Value%:Q') ,\n",
    "    color=alt.Color('Category:N',),  \n",
    "    tooltip=['Category:N', 'Value%:Q']  \n",
    ").facet(\n",
    "    facet=alt.Facet('Year:N', title=\"Analytics, Data Science and Machine Learning Platforms\")  \n",
    ")\n",
    "chart\n",
    "\n",
    "# piechart takes lots of space and still needs 2 pies to present data for 2 years, but it clearly shows the distribution\n"
   ]
  },
  {
   "cell_type": "code",
   "execution_count": 71,
   "outputs": [
    {
     "data": {
      "text/html": "\n<style>\n  #altair-viz-effbd025ff5a4bfda551871e720deb4b.vega-embed {\n    width: 100%;\n    display: flex;\n  }\n\n  #altair-viz-effbd025ff5a4bfda551871e720deb4b.vega-embed details,\n  #altair-viz-effbd025ff5a4bfda551871e720deb4b.vega-embed details summary {\n    position: relative;\n  }\n</style>\n<div id=\"altair-viz-effbd025ff5a4bfda551871e720deb4b\"></div>\n<script type=\"text/javascript\">\n  var VEGA_DEBUG = (typeof VEGA_DEBUG == \"undefined\") ? {} : VEGA_DEBUG;\n  (function(spec, embedOpt){\n    let outputDiv = document.currentScript.previousElementSibling;\n    if (outputDiv.id !== \"altair-viz-effbd025ff5a4bfda551871e720deb4b\") {\n      outputDiv = document.getElementById(\"altair-viz-effbd025ff5a4bfda551871e720deb4b\");\n    }\n\n    const paths = {\n      \"vega\": \"https://cdn.jsdelivr.net/npm/vega@5?noext\",\n      \"vega-lib\": \"https://cdn.jsdelivr.net/npm/vega-lib?noext\",\n      \"vega-lite\": \"https://cdn.jsdelivr.net/npm/vega-lite@5.20.1?noext\",\n      \"vega-embed\": \"https://cdn.jsdelivr.net/npm/vega-embed@6?noext\",\n    };\n\n    function maybeLoadScript(lib, version) {\n      var key = `${lib.replace(\"-\", \"\")}_version`;\n      return (VEGA_DEBUG[key] == version) ?\n        Promise.resolve(paths[lib]) :\n        new Promise(function(resolve, reject) {\n          var s = document.createElement('script');\n          document.getElementsByTagName(\"head\")[0].appendChild(s);\n          s.async = true;\n          s.onload = () => {\n            VEGA_DEBUG[key] = version;\n            return resolve(paths[lib]);\n          };\n          s.onerror = () => reject(`Error loading script: ${paths[lib]}`);\n          s.src = paths[lib];\n        });\n    }\n\n    function showError(err) {\n      outputDiv.innerHTML = `<div class=\"error\" style=\"color:red;\">${err}</div>`;\n      throw err;\n    }\n\n    function displayChart(vegaEmbed) {\n      vegaEmbed(outputDiv, spec, embedOpt)\n        .catch(err => showError(`Javascript Error: ${err.message}<br>This usually means there's a typo in your chart specification. See the javascript console for the full traceback.`));\n    }\n\n    if(typeof define === \"function\" && define.amd) {\n      requirejs.config({paths});\n      let deps = [\"vega-embed\"];\n      require(deps, displayChart, err => showError(`Error loading script: ${err.message}`));\n    } else {\n      maybeLoadScript(\"vega\", \"5\")\n        .then(() => maybeLoadScript(\"vega-lite\", \"5.20.1\"))\n        .then(() => maybeLoadScript(\"vega-embed\", \"6\"))\n        .catch(showError)\n        .then(() => displayChart(vegaEmbed));\n    }\n  })({\"config\": {\"view\": {\"continuousWidth\": 300, \"continuousHeight\": 300}}, \"data\": {\"name\": \"data-8df9324917863ca63013f1db3c17b3e2\"}, \"mark\": {\"type\": \"bar\"}, \"encoding\": {\"color\": {\"field\": \"Category\", \"type\": \"nominal\"}, \"x\": {\"field\": \"Year\", \"type\": \"nominal\"}, \"y\": {\"axis\": {\"ticks\": false}, \"field\": \"Value%\", \"type\": \"quantitative\"}}, \"height\": 300, \"title\": \"Analytics, Data Science and Machine Learning Platforms\", \"width\": 200, \"$schema\": \"https://vega.github.io/schema/vega-lite/v5.20.1.json\", \"datasets\": {\"data-8df9324917863ca63013f1db3c17b3e2\": [{\"Year\": 2016, \"Category\": \"Python\", \"Value%\": 34}, {\"Year\": 2016, \"Category\": \"R\", \"Value%\": 42}, {\"Year\": 2016, \"Category\": \"Both\", \"Value%\": 8}, {\"Year\": 2016, \"Category\": \"Others\", \"Value%\": 16}, {\"Year\": 2017, \"Category\": \"Python\", \"Value%\": 41}, {\"Year\": 2017, \"Category\": \"R\", \"Value%\": 36}, {\"Year\": 2017, \"Category\": \"Both\", \"Value%\": 12}, {\"Year\": 2017, \"Category\": \"Others\", \"Value%\": 11}]}}, {\"mode\": \"vega-lite\"});\n</script>",
      "text/plain": "alt.Chart(...)"
     },
     "execution_count": 71,
     "metadata": {},
     "output_type": "execute_result"
    }
   ],
   "source": [
    "stacked_bar = alt.Chart(source).mark_bar().encode(\n",
    "    x=alt.X('Year:N'),  \n",
    "    y=alt.Y('Value%:Q', axis=alt.Axis( ticks=False)),\n",
    "    color = alt.Color('Category:N'),\n",
    ").properties(width=200, height=300, title = 'Analytics, Data Science and Machine Learning Platforms')\n",
    "\n",
    "stacked_bar\n",
    "\n",
    "# this plot presents in easy manner the distribution of languagues used and we can  compare them side by side, espiecially the bottom one"
   ],
   "metadata": {
    "collapsed": false,
    "ExecuteTime": {
     "end_time": "2024-12-16T14:37:08.784282200Z",
     "start_time": "2024-12-16T14:37:08.758224500Z"
    }
   },
   "id": "e2cc390f113da3e7"
  },
  {
   "cell_type": "code",
   "execution_count": 72,
   "outputs": [
    {
     "data": {
      "text/html": "\n<style>\n  #altair-viz-deec8b8ef3dc4a54ae5d90c110a61adc.vega-embed {\n    width: 100%;\n    display: flex;\n  }\n\n  #altair-viz-deec8b8ef3dc4a54ae5d90c110a61adc.vega-embed details,\n  #altair-viz-deec8b8ef3dc4a54ae5d90c110a61adc.vega-embed details summary {\n    position: relative;\n  }\n</style>\n<div id=\"altair-viz-deec8b8ef3dc4a54ae5d90c110a61adc\"></div>\n<script type=\"text/javascript\">\n  var VEGA_DEBUG = (typeof VEGA_DEBUG == \"undefined\") ? {} : VEGA_DEBUG;\n  (function(spec, embedOpt){\n    let outputDiv = document.currentScript.previousElementSibling;\n    if (outputDiv.id !== \"altair-viz-deec8b8ef3dc4a54ae5d90c110a61adc\") {\n      outputDiv = document.getElementById(\"altair-viz-deec8b8ef3dc4a54ae5d90c110a61adc\");\n    }\n\n    const paths = {\n      \"vega\": \"https://cdn.jsdelivr.net/npm/vega@5?noext\",\n      \"vega-lib\": \"https://cdn.jsdelivr.net/npm/vega-lib?noext\",\n      \"vega-lite\": \"https://cdn.jsdelivr.net/npm/vega-lite@5.20.1?noext\",\n      \"vega-embed\": \"https://cdn.jsdelivr.net/npm/vega-embed@6?noext\",\n    };\n\n    function maybeLoadScript(lib, version) {\n      var key = `${lib.replace(\"-\", \"\")}_version`;\n      return (VEGA_DEBUG[key] == version) ?\n        Promise.resolve(paths[lib]) :\n        new Promise(function(resolve, reject) {\n          var s = document.createElement('script');\n          document.getElementsByTagName(\"head\")[0].appendChild(s);\n          s.async = true;\n          s.onload = () => {\n            VEGA_DEBUG[key] = version;\n            return resolve(paths[lib]);\n          };\n          s.onerror = () => reject(`Error loading script: ${paths[lib]}`);\n          s.src = paths[lib];\n        });\n    }\n\n    function showError(err) {\n      outputDiv.innerHTML = `<div class=\"error\" style=\"color:red;\">${err}</div>`;\n      throw err;\n    }\n\n    function displayChart(vegaEmbed) {\n      vegaEmbed(outputDiv, spec, embedOpt)\n        .catch(err => showError(`Javascript Error: ${err.message}<br>This usually means there's a typo in your chart specification. See the javascript console for the full traceback.`));\n    }\n\n    if(typeof define === \"function\" && define.amd) {\n      requirejs.config({paths});\n      let deps = [\"vega-embed\"];\n      require(deps, displayChart, err => showError(`Error loading script: ${err.message}`));\n    } else {\n      maybeLoadScript(\"vega\", \"5\")\n        .then(() => maybeLoadScript(\"vega-lite\", \"5.20.1\"))\n        .then(() => maybeLoadScript(\"vega-embed\", \"6\"))\n        .catch(showError)\n        .then(() => displayChart(vegaEmbed));\n    }\n  })({\"config\": {\"view\": {\"continuousWidth\": 300, \"continuousHeight\": 300}}, \"data\": {\"name\": \"data-8df9324917863ca63013f1db3c17b3e2\"}, \"facet\": {\"field\": \"Year\", \"title\": \"Analytics, Data Science and Machine Learning Platforms\", \"type\": \"nominal\"}, \"spec\": {\"mark\": {\"type\": \"bar\"}, \"encoding\": {\"color\": {\"field\": \"Category\", \"scale\": {\"scheme\": \"set2\"}, \"type\": \"nominal\"}, \"x\": {\"field\": \"Category\", \"type\": \"nominal\"}, \"y\": {\"field\": \"Value%\", \"type\": \"quantitative\"}}, \"height\": 300, \"width\": 300}, \"$schema\": \"https://vega.github.io/schema/vega-lite/v5.20.1.json\", \"datasets\": {\"data-8df9324917863ca63013f1db3c17b3e2\": [{\"Year\": 2016, \"Category\": \"Python\", \"Value%\": 34}, {\"Year\": 2016, \"Category\": \"R\", \"Value%\": 42}, {\"Year\": 2016, \"Category\": \"Both\", \"Value%\": 8}, {\"Year\": 2016, \"Category\": \"Others\", \"Value%\": 16}, {\"Year\": 2017, \"Category\": \"Python\", \"Value%\": 41}, {\"Year\": 2017, \"Category\": \"R\", \"Value%\": 36}, {\"Year\": 2017, \"Category\": \"Both\", \"Value%\": 12}, {\"Year\": 2017, \"Category\": \"Others\", \"Value%\": 11}]}}, {\"mode\": \"vega-lite\"});\n</script>",
      "text/plain": "alt.FacetChart(...)"
     },
     "execution_count": 72,
     "metadata": {},
     "output_type": "execute_result"
    }
   ],
   "source": [
    "bar = (alt.Chart(source).mark_bar().encode(\n",
    "   x=alt.X('Category:N'),  \n",
    "    y=alt.Y('Value%:Q'),\n",
    "      color=alt.Color('Category:N', scale=alt.Scale(scheme='set2')) \n",
    ").properties(width=300, height=300)\n",
    ".facet(\n",
    "    facet=alt.Facet('Year:N', title=\"Analytics, Data Science and Machine Learning Platforms\")  \n",
    "))\n",
    "\n",
    "bar\n",
    "\n",
    "# easy comparision for particular years, we can clearly see exact number of percents and clearly order them "
   ],
   "metadata": {
    "collapsed": false,
    "ExecuteTime": {
     "end_time": "2024-12-16T14:37:12.705315500Z",
     "start_time": "2024-12-16T14:37:12.687250600Z"
    }
   },
   "id": "157846e66afb281f"
  },
  {
   "cell_type": "code",
   "execution_count": 66,
   "outputs": [
    {
     "data": {
      "text/html": "\n<style>\n  #altair-viz-fdb7e6e5dab045d888a0dff191b8d947.vega-embed {\n    width: 100%;\n    display: flex;\n  }\n\n  #altair-viz-fdb7e6e5dab045d888a0dff191b8d947.vega-embed details,\n  #altair-viz-fdb7e6e5dab045d888a0dff191b8d947.vega-embed details summary {\n    position: relative;\n  }\n</style>\n<div id=\"altair-viz-fdb7e6e5dab045d888a0dff191b8d947\"></div>\n<script type=\"text/javascript\">\n  var VEGA_DEBUG = (typeof VEGA_DEBUG == \"undefined\") ? {} : VEGA_DEBUG;\n  (function(spec, embedOpt){\n    let outputDiv = document.currentScript.previousElementSibling;\n    if (outputDiv.id !== \"altair-viz-fdb7e6e5dab045d888a0dff191b8d947\") {\n      outputDiv = document.getElementById(\"altair-viz-fdb7e6e5dab045d888a0dff191b8d947\");\n    }\n\n    const paths = {\n      \"vega\": \"https://cdn.jsdelivr.net/npm/vega@5?noext\",\n      \"vega-lib\": \"https://cdn.jsdelivr.net/npm/vega-lib?noext\",\n      \"vega-lite\": \"https://cdn.jsdelivr.net/npm/vega-lite@5.20.1?noext\",\n      \"vega-embed\": \"https://cdn.jsdelivr.net/npm/vega-embed@6?noext\",\n    };\n\n    function maybeLoadScript(lib, version) {\n      var key = `${lib.replace(\"-\", \"\")}_version`;\n      return (VEGA_DEBUG[key] == version) ?\n        Promise.resolve(paths[lib]) :\n        new Promise(function(resolve, reject) {\n          var s = document.createElement('script');\n          document.getElementsByTagName(\"head\")[0].appendChild(s);\n          s.async = true;\n          s.onload = () => {\n            VEGA_DEBUG[key] = version;\n            return resolve(paths[lib]);\n          };\n          s.onerror = () => reject(`Error loading script: ${paths[lib]}`);\n          s.src = paths[lib];\n        });\n    }\n\n    function showError(err) {\n      outputDiv.innerHTML = `<div class=\"error\" style=\"color:red;\">${err}</div>`;\n      throw err;\n    }\n\n    function displayChart(vegaEmbed) {\n      vegaEmbed(outputDiv, spec, embedOpt)\n        .catch(err => showError(`Javascript Error: ${err.message}<br>This usually means there's a typo in your chart specification. See the javascript console for the full traceback.`));\n    }\n\n    if(typeof define === \"function\" && define.amd) {\n      requirejs.config({paths});\n      let deps = [\"vega-embed\"];\n      require(deps, displayChart, err => showError(`Error loading script: ${err.message}`));\n    } else {\n      maybeLoadScript(\"vega\", \"5\")\n        .then(() => maybeLoadScript(\"vega-lite\", \"5.20.1\"))\n        .then(() => maybeLoadScript(\"vega-embed\", \"6\"))\n        .catch(showError)\n        .then(() => displayChart(vegaEmbed));\n    }\n  })({\"config\": {\"view\": {\"continuousWidth\": 300, \"continuousHeight\": 300}}, \"data\": {\"name\": \"data-c3c080b2baccd260da26ec07fac96120\"}, \"mark\": {\"type\": \"line\"}, \"encoding\": {\"color\": {\"field\": \"Category\", \"type\": \"nominal\"}, \"detail\": {\"field\": \"Category\", \"type\": \"nominal\"}, \"x\": {\"field\": \"Year\", \"type\": \"nominal\"}, \"y\": {\"field\": \"Value\", \"type\": \"quantitative\"}}, \"height\": 300, \"title\": \"Analytics, Data Science and Machine Learning Platforms\", \"width\": 200, \"$schema\": \"https://vega.github.io/schema/vega-lite/v5.20.1.json\", \"datasets\": {\"data-c3c080b2baccd260da26ec07fac96120\": [{\"Year\": 2016, \"Category\": \"Python\", \"Value\": 34}, {\"Year\": 2016, \"Category\": \"R\", \"Value\": 42}, {\"Year\": 2016, \"Category\": \"Both\", \"Value\": 8}, {\"Year\": 2016, \"Category\": \"Others\", \"Value\": 16}, {\"Year\": 2017, \"Category\": \"Python\", \"Value\": 41}, {\"Year\": 2017, \"Category\": \"R\", \"Value\": 36}, {\"Year\": 2017, \"Category\": \"Both\", \"Value\": 12}, {\"Year\": 2017, \"Category\": \"Others\", \"Value\": 11}]}}, {\"mode\": \"vega-lite\"});\n</script>",
      "text/plain": "alt.Chart(...)"
     },
     "execution_count": 66,
     "metadata": {},
     "output_type": "execute_result"
    }
   ],
   "source": [
    "slope = alt.Chart(source).mark_line().encode(\n",
    "    x=alt.X('Year:N'),\n",
    "    y=alt.Y('Value%:Q'),\n",
    "    color=alt.Color('Category:N'),\n",
    "    detail='Category:N'\n",
    ").properties(\n",
    "    width=200,\n",
    "    height=300,\n",
    "    title=\"Analytics, Data Science and Machine Learning Platforms\"\n",
    ")\n",
    "\n",
    "slope\n",
    "\n",
    "# focuses on the trend, which is on the foreground, maybe it would be the best for more than 2 periods, but it is still quite okay"
   ],
   "metadata": {
    "collapsed": false,
    "ExecuteTime": {
     "end_time": "2024-12-16T14:32:38.633697400Z",
     "start_time": "2024-12-16T14:32:38.609420300Z"
    }
   },
   "id": "568073bacbc336aa"
  }
 ],
 "metadata": {
  "kernelspec": {
   "display_name": "Python 3",
   "language": "python",
   "name": "python3"
  },
  "language_info": {
   "codemirror_mode": {
    "name": "ipython",
    "version": 2
   },
   "file_extension": ".py",
   "mimetype": "text/x-python",
   "name": "python",
   "nbconvert_exporter": "python",
   "pygments_lexer": "ipython2",
   "version": "2.7.6"
  }
 },
 "nbformat": 4,
 "nbformat_minor": 5
}
